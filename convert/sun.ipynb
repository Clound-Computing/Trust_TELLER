{
 "cells": [
  {
   "cell_type": "code",
   "execution_count": 1,
   "metadata": {},
   "outputs": [],
   "source": [
    "import json\n",
    "import re\n",
    "\n",
    "def preprocess_text(text):\n",
    "    # Split and join text\n",
    "    text = text.split()\n",
    "    text = \" \".join(text)\n",
    "    \n",
    "    # Remove URLs\n",
    "    text = re.sub(r\"http(\\S)+\", ' ', text)\n",
    "    text = re.sub(r\"www(\\S)+\", ' ', text)\n",
    "    \n",
    "    # Replace '&' and '&amp'\n",
    "    text = re.sub(r\"&\", ' and ', text)\n",
    "    text = text.replace('&amp', ' ')\n",
    "    \n",
    "    # Remove characters that are not letters, numbers, spaces, or specific punctuation marks\n",
    "    text = re.sub(r'[^a-zA-Z0-9\\s!\"#$%&\\'()*+,-./:;<=>?@\\[\\\\\\]^_`{|}~]+', '', text)\n",
    "    \n",
    "    return text.strip()  # Strip leading and trailing whitespace\n",
    "\n",
    "def preprocess_json_file(json_file):\n",
    "    # Read JSON file\n",
    "    with open(json_file, 'r', encoding='utf-8') as f:\n",
    "        json_data = json.load(f)\n",
    "    \n",
    "    # Preprocess each entry in JSON file\n",
    "    for key, value in json_data.items():\n",
    "        if 'origin_text' in value:\n",
    "            origin_text = value['origin_text']\n",
    "            value['origin_text'] = preprocess_text(origin_text)\n",
    "    \n",
    "    return json_data"
   ]
  },
  {
   "cell_type": "code",
   "execution_count": 4,
   "metadata": {},
   "outputs": [
    {
     "name": "stdout",
     "output_type": "stream",
     "text": [
      "******************** 5127\n"
     ]
    }
   ],
   "source": [
    "import json\n",
    "import jsonlines\n",
    "\n",
    "def merge_jsonl_json(jsonl_file, json_file, output_file):\n",
    "    # 读取 json 文件，构建 origin_text 到 generated_text 的映射字典\n",
    "    origin_to_generated = {}\n",
    "    # with open(json_file, 'r', encoding='utf-8') as f:\n",
    "    #     json_data = json.load(f)\n",
    "\n",
    "    json_data = preprocess_json_file(json_file)\n",
    "    \n",
    "    for key, value in json_data.items():\n",
    "        origin_to_generated[value['origin_text']] = {'text': value['generated_text'], \n",
    "                                                     'label':  value['generated_label']}\n",
    "    \n",
    "    cnt = 0\n",
    "    \n",
    "    # 读取 jsonl 文件，并根据映射字典更新数据\n",
    "    with jsonlines.open(jsonl_file) as reader, jsonlines.open(output_file, 'w') as writer:\n",
    "        for obj in reader:\n",
    "            message = obj['message']\n",
    "            if message in origin_to_generated:\n",
    "                cnt+=1\n",
    "                obj['message'] = origin_to_generated[message]['text']\n",
    "                obj['label'] = origin_to_generated[message]['label']\n",
    "            writer.write(obj)\n",
    "    print('*'*20, cnt)\n",
    "\n",
    "# 示例用法\n",
    "merge_jsonl_json('/home/gx/data/cloudcomputing/Trust_TELLER/data/GOSSIPCOP/train.jsonl', \n",
    "                 '/home/gx/data/cloudcomputing/data/gossipcop_v3-1_style_based_fake.json', \n",
    "                 'train_generate.jsonl')\n"
   ]
  },
  {
   "cell_type": "code",
   "execution_count": null,
   "metadata": {},
   "outputs": [],
   "source": []
  }
 ],
 "metadata": {
  "kernelspec": {
   "display_name": "venv",
   "language": "python",
   "name": "python3"
  },
  "language_info": {
   "codemirror_mode": {
    "name": "ipython",
    "version": 3
   },
   "file_extension": ".py",
   "mimetype": "text/x-python",
   "name": "python",
   "nbconvert_exporter": "python",
   "pygments_lexer": "ipython3",
   "version": "3.10.12"
  }
 },
 "nbformat": 4,
 "nbformat_minor": 2
}
